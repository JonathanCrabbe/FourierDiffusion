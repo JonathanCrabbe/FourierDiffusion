{
 "cells": [
  {
   "cell_type": "code",
   "execution_count": 2,
   "metadata": {},
   "outputs": [
    {
     "name": "stdout",
     "output_type": "stream",
     "text": [
      "tensor([[[ 0.5279],\n",
      "         [-0.2125],\n",
      "         [ 1.1778],\n",
      "         [ 1.1518],\n",
      "         [ 0.3371]],\n",
      "\n",
      "        [[ 0.1009],\n",
      "         [-0.7937],\n",
      "         [-1.8872],\n",
      "         [-0.7824],\n",
      "         [ 0.1456]]])\n",
      "tensor([[[ 1.0557],\n",
      "         [-0.4250],\n",
      "         [ 2.3555],\n",
      "         [ 2.3036],\n",
      "         [ 0.6741]],\n",
      "\n",
      "        [[ 0.2018],\n",
      "         [-1.5874],\n",
      "         [-3.7745],\n",
      "         [-1.5649],\n",
      "         [ 0.2912]]])\n"
     ]
    }
   ],
   "source": [
    "import torch\n",
    "#sample a random vector of size (2, 5, 1)\n",
    "x = torch.randn(2, 5, 1)\n",
    "G = 2*torch.eye(5)\n",
    "\n",
    "print(x)\n",
    "print(torch.matmul(G,x))"
   ]
  },
  {
   "cell_type": "code",
   "execution_count": null,
   "metadata": {},
   "outputs": [],
   "source": []
  }
 ],
 "metadata": {
  "kernelspec": {
   "display_name": "fourier",
   "language": "python",
   "name": "python3"
  },
  "language_info": {
   "codemirror_mode": {
    "name": "ipython",
    "version": 3
   },
   "file_extension": ".py",
   "mimetype": "text/x-python",
   "name": "python",
   "nbconvert_exporter": "python",
   "pygments_lexer": "ipython3",
   "version": "3.11.5"
  }
 },
 "nbformat": 4,
 "nbformat_minor": 2
}
