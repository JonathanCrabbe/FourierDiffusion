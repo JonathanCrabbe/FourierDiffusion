{
 "cells": [
  {
   "cell_type": "code",
   "execution_count": 7,
   "metadata": {},
   "outputs": [],
   "source": [
    "import numpy as np\n",
    "from src.utils.wasserstein.wasserstein import WassersteinDistances"
   ]
  },
  {
   "cell_type": "code",
   "execution_count": 8,
   "metadata": {},
   "outputs": [],
   "source": [
    "dataset1 = np.random.rand(1000, 2)\n",
    "dataset2 = np.random.rand(1000, 2) * 2 + 5\n",
    "\n",
    "wasserstein = WassersteinDistances(dataset1, dataset2, normalisation=\"none\")"
   ]
  },
  {
   "cell_type": "code",
   "execution_count": 9,
   "metadata": {},
   "outputs": [
    {
     "name": "stdout",
     "output_type": "stream",
     "text": [
      "W_2 along 1st feature:  5.505286146121079\n",
      "W_2 along 2nd feature:  5.495949222805913\n"
     ]
    }
   ],
   "source": [
    "# Featurewise distance\n",
    "print(\"W_2 along 1st feature: \", wasserstein.feature_distance(0))\n",
    "print(\"W_2 along 2nd feature: \", wasserstein.feature_distance(1))"
   ]
  },
  {
   "cell_type": "code",
   "execution_count": 10,
   "metadata": {},
   "outputs": [
    {
     "name": "stdout",
     "output_type": "stream",
     "text": [
      "W_2 along 1st feature:  5.505286146121079\n",
      "W_2 along 2nd feature:  5.495949222805913\n"
     ]
    }
   ],
   "source": [
    "# Equivalent\n",
    "vs = wasserstein.get_marginal_directions()\n",
    "print(\"W_2 along 1st feature: \", wasserstein.directional_distance(vs[0]))\n",
    "print(\"W_2 along 2nd feature: \", wasserstein.directional_distance(vs[1]))"
   ]
  },
  {
   "cell_type": "code",
   "execution_count": 11,
   "metadata": {},
   "outputs": [
    {
     "name": "stdout",
     "output_type": "stream",
     "text": [
      "directions:  [array([-0.22129768, -0.9752063 ]), array([ 0.80074622, -0.59900374]), array([-0.97347178, -0.22880709]), array([0.62491915, 0.78068947]), array([0.98571224, 0.16843807])]\n",
      "W_2 along v_0:  6.575043870334613\n",
      "W_2 along v_1:  1.154363775514037\n",
      "W_2 along v_2:  6.613735637817226\n",
      "W_2 along v_3:  7.725344772626352\n",
      "W_2 along v_4:  6.350010481158996\n",
      "Slice distance:  5.683699707490245\n"
     ]
    }
   ],
   "source": [
    "# Sliced distance\n",
    "vs = wasserstein.get_random_directions(5)\n",
    "print(\"directions: \", vs)\n",
    "\n",
    "ws = []\n",
    "for i, v in enumerate(vs):\n",
    "    w = wasserstein.directional_distance(v)\n",
    "    ws.append(w)\n",
    "    print(f\"W_2 along v_{i}: \", w)\n",
    "\n",
    "print(\"Slice distance: \", np.mean(ws))"
   ]
  }
 ],
 "metadata": {
  "kernelspec": {
   "display_name": "base",
   "language": "python",
   "name": "python3"
  },
  "language_info": {
   "codemirror_mode": {
    "name": "ipython",
    "version": 3
   },
   "file_extension": ".py",
   "mimetype": "text/x-python",
   "name": "python",
   "nbconvert_exporter": "python",
   "pygments_lexer": "ipython3",
   "version": "3.9.12"
  }
 },
 "nbformat": 4,
 "nbformat_minor": 2
}
