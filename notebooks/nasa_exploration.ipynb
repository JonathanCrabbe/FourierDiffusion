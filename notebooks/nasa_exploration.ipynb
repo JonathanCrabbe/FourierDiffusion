{
 "cells": [
  {
   "cell_type": "code",
   "execution_count": 153,
   "metadata": {},
   "outputs": [],
   "source": [
    "from pathlib import Path\n",
    "from tqdm import tqdm\n",
    "from fdiff.utils.fourier import dft\n",
    "\n",
    "import pandas as pd\n",
    "import torch\n",
    "import seaborn as sns\n",
    "import matplotlib.pyplot as plt\n",
    "import numpy as np\n",
    "\n",
    "DATA_FILEPATH = PATH_DOWNLOAD = Path.cwd() / \"../data/nasa/\"\n"
   ]
  },
  {
   "cell_type": "code",
   "execution_count": 154,
   "metadata": {},
   "outputs": [],
   "source": [
    "import kaggle\n",
    "kaggle.api.authenticate()\n",
    "kaggle.api.dataset_download_files(\n",
    "    \"patrickfleith/nasa-battery-dataset\", path = PATH_DOWNLOAD, unzip=True\n",
    ")"
   ]
  },
  {
   "cell_type": "code",
   "execution_count": 155,
   "metadata": {},
   "outputs": [],
   "source": [
    "# Read the metadata\n",
    "metadata = pd.read_csv(PATH_DOWNLOAD / \"cleaned_dataset\"/ \"metadata.csv\")"
   ]
  },
  {
   "cell_type": "code",
   "execution_count": 156,
   "metadata": {},
   "outputs": [
    {
     "data": {
      "text/html": [
       "<div>\n",
       "<style scoped>\n",
       "    .dataframe tbody tr th:only-of-type {\n",
       "        vertical-align: middle;\n",
       "    }\n",
       "\n",
       "    .dataframe tbody tr th {\n",
       "        vertical-align: top;\n",
       "    }\n",
       "\n",
       "    .dataframe thead th {\n",
       "        text-align: right;\n",
       "    }\n",
       "</style>\n",
       "<table border=\"1\" class=\"dataframe\">\n",
       "  <thead>\n",
       "    <tr style=\"text-align: right;\">\n",
       "      <th></th>\n",
       "      <th>type</th>\n",
       "      <th>start_time</th>\n",
       "      <th>ambient_temperature</th>\n",
       "      <th>battery_id</th>\n",
       "      <th>test_id</th>\n",
       "      <th>uid</th>\n",
       "      <th>filename</th>\n",
       "      <th>Capacity</th>\n",
       "      <th>Re</th>\n",
       "      <th>Rct</th>\n",
       "    </tr>\n",
       "  </thead>\n",
       "  <tbody>\n",
       "    <tr>\n",
       "      <th>0</th>\n",
       "      <td>discharge</td>\n",
       "      <td>[2010.       7.      21.      15.       0.    ...</td>\n",
       "      <td>4</td>\n",
       "      <td>B0047</td>\n",
       "      <td>0</td>\n",
       "      <td>1</td>\n",
       "      <td>00001.csv</td>\n",
       "      <td>1.6743047446975208</td>\n",
       "      <td>NaN</td>\n",
       "      <td>NaN</td>\n",
       "    </tr>\n",
       "    <tr>\n",
       "      <th>1</th>\n",
       "      <td>impedance</td>\n",
       "      <td>[2010.       7.      21.      16.      53.    ...</td>\n",
       "      <td>24</td>\n",
       "      <td>B0047</td>\n",
       "      <td>1</td>\n",
       "      <td>2</td>\n",
       "      <td>00002.csv</td>\n",
       "      <td>NaN</td>\n",
       "      <td>0.05605783343888099</td>\n",
       "      <td>0.20097016584458333</td>\n",
       "    </tr>\n",
       "    <tr>\n",
       "      <th>2</th>\n",
       "      <td>charge</td>\n",
       "      <td>[2010.       7.      21.      17.      25.    ...</td>\n",
       "      <td>4</td>\n",
       "      <td>B0047</td>\n",
       "      <td>2</td>\n",
       "      <td>3</td>\n",
       "      <td>00003.csv</td>\n",
       "      <td>NaN</td>\n",
       "      <td>NaN</td>\n",
       "      <td>NaN</td>\n",
       "    </tr>\n",
       "    <tr>\n",
       "      <th>3</th>\n",
       "      <td>impedance</td>\n",
       "      <td>[2010    7   21   20   31    5]</td>\n",
       "      <td>24</td>\n",
       "      <td>B0047</td>\n",
       "      <td>3</td>\n",
       "      <td>4</td>\n",
       "      <td>00004.csv</td>\n",
       "      <td>NaN</td>\n",
       "      <td>0.05319185850921101</td>\n",
       "      <td>0.16473399914864734</td>\n",
       "    </tr>\n",
       "    <tr>\n",
       "      <th>4</th>\n",
       "      <td>discharge</td>\n",
       "      <td>[2.0100e+03 7.0000e+00 2.1000e+01 2.1000e+01 2...</td>\n",
       "      <td>4</td>\n",
       "      <td>B0047</td>\n",
       "      <td>4</td>\n",
       "      <td>5</td>\n",
       "      <td>00005.csv</td>\n",
       "      <td>1.5243662105099023</td>\n",
       "      <td>NaN</td>\n",
       "      <td>NaN</td>\n",
       "    </tr>\n",
       "  </tbody>\n",
       "</table>\n",
       "</div>"
      ],
      "text/plain": [
       "        type                                         start_time  \\\n",
       "0  discharge  [2010.       7.      21.      15.       0.    ...   \n",
       "1  impedance  [2010.       7.      21.      16.      53.    ...   \n",
       "2     charge  [2010.       7.      21.      17.      25.    ...   \n",
       "3  impedance                    [2010    7   21   20   31    5]   \n",
       "4  discharge  [2.0100e+03 7.0000e+00 2.1000e+01 2.1000e+01 2...   \n",
       "\n",
       "   ambient_temperature battery_id  test_id  uid   filename  \\\n",
       "0                    4      B0047        0    1  00001.csv   \n",
       "1                   24      B0047        1    2  00002.csv   \n",
       "2                    4      B0047        2    3  00003.csv   \n",
       "3                   24      B0047        3    4  00004.csv   \n",
       "4                    4      B0047        4    5  00005.csv   \n",
       "\n",
       "             Capacity                   Re                  Rct  \n",
       "0  1.6743047446975208                  NaN                  NaN  \n",
       "1                 NaN  0.05605783343888099  0.20097016584458333  \n",
       "2                 NaN                  NaN                  NaN  \n",
       "3                 NaN  0.05319185850921101  0.16473399914864734  \n",
       "4  1.5243662105099023                  NaN                  NaN  "
      ]
     },
     "execution_count": 156,
     "metadata": {},
     "output_type": "execute_result"
    }
   ],
   "source": [
    "metadata.head()"
   ]
  },
  {
   "cell_type": "code",
   "execution_count": 232,
   "metadata": {},
   "outputs": [
    {
     "name": "stdout",
     "output_type": "stream",
     "text": [
      "Number of charge files:  2815\n",
      "Number of discharge files:  2794\n",
      "Number of impedance files:  1956\n"
     ]
    }
   ],
   "source": [
    "# Extract the list of filenames which correspond to type=charge\n",
    "charge_files = metadata[metadata[\"type\"] == \"charge\"][\"filename\"].values\n",
    "print(\"Number of charge files: \", len(charge_files))\n",
    "discharge_files = metadata[metadata[\"type\"] == \"discharge\"][\"filename\"].values\n",
    "print(\"Number of discharge files: \", len(discharge_files))\n",
    "impedance_files = metadata[metadata[\"type\"] == \"impedance\"][\"filename\"].values\n",
    "print(\"Number of impedance files: \", len(impedance_files))"
   ]
  },
  {
   "cell_type": "code",
   "execution_count": 251,
   "metadata": {},
   "outputs": [
    {
     "name": "stdout",
     "output_type": "stream",
     "text": [
      "07466.csv\n",
      "Maximum time interval:  12.375\n",
      "Maximum time:  2416.672\n"
     ]
    }
   ],
   "source": [
    "#Discharge\n",
    "\n",
    "example_discharge_file = discharge_files[-40]\n",
    "print(example_discharge_file)\n",
    "data_example = pd.read_csv(PATH_DOWNLOAD / \"cleaned_dataset\"/ \"data\"/example_discharge_file)\n",
    "data_example.head()\n",
    "\n",
    "#Print maximum time interval\n",
    "print(\"Maximum time interval: \", data_example[\"Time\"].diff().max())\n",
    "\n",
    "#Print maximum time\n",
    "print(\"Maximum time: \", data_example[\"Time\"].max())"
   ]
  },
  {
   "cell_type": "code",
   "execution_count": 253,
   "metadata": {},
   "outputs": [
    {
     "name": "stderr",
     "output_type": "stream",
     "text": [
      "100%|██████████| 2794/2794 [00:02<00:00, 1025.38it/s]\n"
     ]
    },
    {
     "name": "stdout",
     "output_type": "stream",
     "text": [
      "Proportion of files with maximum time greater than 6000:  0.07050823192555476\n",
      "Number of files with maximum time greater than 6000:  197\n"
     ]
    },
    {
     "data": {
      "image/png": "[encoded data removed]",
      "text/plain": [
       "<Figure size 640x480 with 1 Axes>"
      ]
     },
     "metadata": {},
     "output_type": "display_data"
    }
   ],
   "source": [
    "# Loop over all the charge files and extract the maximum time\n",
    "max_times = []\n",
    "interval_times = []\n",
    "for filename in tqdm(discharge_files):\n",
    "    data = pd.read_csv(PATH_DOWNLOAD / \"cleaned_dataset\"/ \"data\"/filename)\n",
    "    max_times.append(data[\"Time\"].max())\n",
    "    interval = data_example[\"Time\"].diff().max()\n",
    "    interval_times.append(interval)\n",
    "\n",
    "#Plot the CDF of the maximum time\n",
    "\n",
    "sns.ecdfplot(max_times)\n",
    "# Check the proportion of files which have a maximum time greater than 6000\n",
    "print(\"Proportion of files with maximum time greater than 6000: \", np.mean(np.array(max_times) > 6000))\n",
    "print(\"Number of files with maximum time greater than 6000: \", np.sum(np.array(max_times) > 6000))"
   ]
  },
  {
   "cell_type": "code",
   "execution_count": 250,
   "metadata": {},
   "outputs": [
    {
     "name": "stdout",
     "output_type": "stream",
     "text": [
      "00003.csv\n",
      "Maximum time interval:  7.531999999999243\n"
     ]
    }
   ],
   "source": [
    "#Now investigate the first charge file\n",
    "example_charge_file = charge_files[0]\n",
    "print(example_charge_file)\n",
    "data_example = pd.read_csv(PATH_DOWNLOAD / \"cleaned_dataset\"/ \"data\"/example_charge_file)\n",
    "data_example.head()\n",
    "\n",
    "#Print maximum time interval\n",
    "print(\"Maximum time interval: \", data_example[\"Time\"].diff().max())"
   ]
  },
  {
   "cell_type": "code",
   "execution_count": 252,
   "metadata": {},
   "outputs": [
    {
     "name": "stderr",
     "output_type": "stream",
     "text": [
      "100%|██████████| 2815/2815 [00:06<00:00, 432.94it/s]"
     ]
    },
    {
     "name": "stdout",
     "output_type": "stream",
     "text": [
      "Proportion of files with maximum time greater than 6000:  0.9801065719360569\n",
      "Number of files with maximum time greater than 6000:  2759\n"
     ]
    },
    {
     "name": "stderr",
     "output_type": "stream",
     "text": [
      "\n"
     ]
    },
    {
     "data": {
      "image/png": "[encoded data removed]",
      "text/plain": [
       "<Figure size 640x480 with 1 Axes>"
      ]
     },
     "metadata": {},
     "output_type": "display_data"
    }
   ],
   "source": [
    "# Loop over all the charge files and extract the maximum time\n",
    "max_times = []\n",
    "interval_times = []\n",
    "for filename in tqdm(charge_files):\n",
    "    data = pd.read_csv(PATH_DOWNLOAD / \"cleaned_dataset\"/ \"data\"/filename)\n",
    "    max_times.append(data[\"Time\"].max())\n",
    "    interval = data_example[\"Time\"].diff().max()\n",
    "    interval_times.append(interval)\n",
    "\n",
    "#Plot the CDF of the maximum time\n",
    "\n",
    "sns.ecdfplot(max_times)\n",
    "# Check the proportion of files which have a maximum time greater than 6000\n",
    "print(\"Proportion of files with maximum time greater than 6000: \", np.mean(np.array(max_times) > 6000))\n",
    "print(\"Number of files with maximum time greater than 6000: \", np.sum(np.array(max_times) > 6000))"
   ]
  },
  {
   "cell_type": "code",
   "execution_count": null,
   "metadata": {},
   "outputs": [],
   "source": [
    "#Plot \"Voltage_measured vs Time\"\n",
    "sns.lineplot(data=data_example, x=\"Time\", y=\"Voltage_charge\")"
   ]
  },
  {
   "cell_type": "code",
   "execution_count": null,
   "metadata": {},
   "outputs": [],
   "source": [
    "bin_size = 10  # You can adjust this to your desired bin size in minutes\n",
    "data_example['Time_Bin'] = pd.cut(data_example['Time'], bins=range(0, int(data_example['Time'].max()) + bin_size, bin_size))\n",
    "\n",
    "# Group by custom bins and calculate the mean for each group\n",
    "result_df = data_example.groupby('Time_Bin').mean().reset_index()\n"
   ]
  },
  {
   "cell_type": "code",
   "execution_count": null,
   "metadata": {},
   "outputs": [],
   "source": [
    "result_df.head()\n"
   ]
  },
  {
   "cell_type": "code",
   "execution_count": null,
   "metadata": {},
   "outputs": [],
   "source": [
    "# Replace the Time_BIn by the index of the bin\n",
    "result_df['Time_Bin'] = result_df.index\n",
    "print(\"number of time steps\", len(result_df))\n"
   ]
  },
  {
   "cell_type": "code",
   "execution_count": null,
   "metadata": {},
   "outputs": [],
   "source": []
  },
  {
   "cell_type": "code",
   "execution_count": null,
   "metadata": {},
   "outputs": [],
   "source": [
    "sns.lineplot(data=result_df, x=\"Time_Bin\", y=\"Voltage_charge\")\n",
    "plt.show()\n",
    "sns.lineplot(data=data_example, x=\"Time\", y=\"Voltage_charge\")\n",
    "plt.show()\n",
    "#Notice that the first peak is reduced because of binning\n",
    "\n",
    "sns.lineplot(data=result_df, x=\"Time_Bin\", y=\"Voltage_measured\")\n",
    "plt.show()\n",
    "sns.lineplot(data=data_example, x=\"Time\", y=\"Voltage_measured\")\n",
    "plt.show()"
   ]
  },
  {
   "cell_type": "code",
   "execution_count": null,
   "metadata": {},
   "outputs": [],
   "source": []
  },
  {
   "cell_type": "markdown",
   "metadata": {},
   "source": [
    "# Full preprocessing script"
   ]
  },
  {
   "cell_type": "code",
   "execution_count": 277,
   "metadata": {},
   "outputs": [
    {
     "name": "stderr",
     "output_type": "stream",
     "text": [
      "100%|██████████| 2815/2815 [00:49<00:00, 57.19it/s] \n"
     ]
    }
   ],
   "source": [
    "SUBDATASET = \"charge\"\n",
    "if SUBDATASET == \"discharge\":\n",
    "    INTERVAL_BIN = 15\n",
    "    CUTOFF_TIME = 2000- 2000%INTERVAL_BIN\n",
    "    files = discharge_files\n",
    "    features = [\n",
    "            \"Voltage_measured\",\n",
    "            \"Current_measured\",\n",
    "            \"Temperature_measured\",\n",
    "            \"Current_load\",\n",
    "            \"Voltage_load\",\n",
    "        ]\n",
    "elif SUBDATASET == \"charge\":\n",
    "    INTERVAL_BIN = 10\n",
    "    CUTOFF_TIME = 5000- 5000%INTERVAL_BIN\n",
    "    files = charge_files\n",
    "    features = [\n",
    "            \"Voltage_measured\",\n",
    "            \"Current_measured\",\n",
    "            \"Temperature_measured\",\n",
    "            \"Current_charge\",\n",
    "            \"Voltage_charge\",\n",
    "        ]\n",
    "\n",
    "\n",
    "else:\n",
    "    raise ValueError(\"SUBDATASET must be either 'discharge' or 'charge'\")\n",
    "\n",
    "\n",
    "\n",
    "\n",
    "\n",
    "full_df = pd.DataFrame()\n",
    "\n",
    "for filename in tqdm(files):\n",
    "    data = pd.read_csv(PATH_DOWNLOAD / \"cleaned_dataset\"/ \"data\"/filename)\n",
    "    \n",
    "    #check if the maximum time is greater than the cutoff time\n",
    "    if data[\"Time\"].max() > CUTOFF_TIME:\n",
    "        #Check that the maximu interval is less than 10\n",
    "        interval = data[\"Time\"].diff().max()\n",
    "        if interval > INTERVAL_BIN:\n",
    "            continue\n",
    "        \n",
    "        \n",
    "        # Remove the rows such that the time is greater than the cutoff time\n",
    "        data = data[data[\"Time\"] < CUTOFF_TIME]\n",
    "        \n",
    "        #bin the data\n",
    "        \n",
    "        data['Time_Bin'] = pd.cut(data['Time'], bins=range(-INTERVAL_BIN, int(CUTOFF_TIME + INTERVAL_BIN), INTERVAL_BIN))\n",
    "        \n",
    "             \n",
    "        # Group by custom bins and calculate the mean for each group\n",
    "        result_df = data.groupby('Time_Bin', observed=False).mean().reset_index()\n",
    "        result_df['Time_Bin'] = result_df.index\n",
    "        \n",
    "        result_df[\"filename\"] = filename\n",
    "        full_df = pd.concat([full_df, result_df])        \n",
    "        \n",
    "        \n",
    "\n",
    "\n"
   ]
  },
  {
   "cell_type": "code",
   "execution_count": 280,
   "metadata": {},
   "outputs": [
    {
     "data": {
      "text/plain": [
       "501"
      ]
     },
     "execution_count": 280,
     "metadata": {},
     "output_type": "execute_result"
    }
   ],
   "source": [
    "CUTOFF_TIME//INTERVAL_BIN + 1"
   ]
  },
  {
   "cell_type": "code",
   "execution_count": 278,
   "metadata": {},
   "outputs": [],
   "source": [
    "df_pivot = full_df.pivot(index='filename', columns='Time_Bin', values=features)"
   ]
  },
  {
   "cell_type": "code",
   "execution_count": 279,
   "metadata": {},
   "outputs": [
    {
     "data": {
      "text/html": [
       "<div>\n",
       "<style scoped>\n",
       "    .dataframe tbody tr th:only-of-type {\n",
       "        vertical-align: middle;\n",
       "    }\n",
       "\n",
       "    .dataframe tbody tr th {\n",
       "        vertical-align: top;\n",
       "    }\n",
       "\n",
       "    .dataframe thead tr th {\n",
       "        text-align: left;\n",
       "    }\n",
       "\n",
       "    .dataframe thead tr:last-of-type th {\n",
       "        text-align: right;\n",
       "    }\n",
       "</style>\n",
       "<table border=\"1\" class=\"dataframe\">\n",
       "  <thead>\n",
       "    <tr>\n",
       "      <th></th>\n",
       "      <th colspan=\"10\" halign=\"left\">Voltage_measured</th>\n",
       "      <th>...</th>\n",
       "      <th colspan=\"10\" halign=\"left\">Voltage_charge</th>\n",
       "    </tr>\n",
       "    <tr>\n",
       "      <th>Time_Bin</th>\n",
       "      <th>0</th>\n",
       "      <th>1</th>\n",
       "      <th>2</th>\n",
       "      <th>3</th>\n",
       "      <th>4</th>\n",
       "      <th>5</th>\n",
       "      <th>6</th>\n",
       "      <th>7</th>\n",
       "      <th>8</th>\n",
       "      <th>9</th>\n",
       "      <th>...</th>\n",
       "      <th>491</th>\n",
       "      <th>492</th>\n",
       "      <th>493</th>\n",
       "      <th>494</th>\n",
       "      <th>495</th>\n",
       "      <th>496</th>\n",
       "      <th>497</th>\n",
       "      <th>498</th>\n",
       "      <th>499</th>\n",
       "      <th>500</th>\n",
       "    </tr>\n",
       "    <tr>\n",
       "      <th>filename</th>\n",
       "      <th></th>\n",
       "      <th></th>\n",
       "      <th></th>\n",
       "      <th></th>\n",
       "      <th></th>\n",
       "      <th></th>\n",
       "      <th></th>\n",
       "      <th></th>\n",
       "      <th></th>\n",
       "      <th></th>\n",
       "      <th></th>\n",
       "      <th></th>\n",
       "      <th></th>\n",
       "      <th></th>\n",
       "      <th></th>\n",
       "      <th></th>\n",
       "      <th></th>\n",
       "      <th></th>\n",
       "      <th></th>\n",
       "      <th></th>\n",
       "      <th></th>\n",
       "    </tr>\n",
       "  </thead>\n",
       "  <tbody>\n",
       "    <tr>\n",
       "      <th>00003.csv</th>\n",
       "      <td>3.486189</td>\n",
       "      <td>3.761015</td>\n",
       "      <td>3.794844</td>\n",
       "      <td>3.819232</td>\n",
       "      <td>3.840722</td>\n",
       "      <td>3.860581</td>\n",
       "      <td>3.884060</td>\n",
       "      <td>3.900672</td>\n",
       "      <td>3.915742</td>\n",
       "      <td>3.929804</td>\n",
       "      <td>...</td>\n",
       "      <td>4.402</td>\n",
       "      <td>4.402</td>\n",
       "      <td>4.402</td>\n",
       "      <td>4.402</td>\n",
       "      <td>4.402</td>\n",
       "      <td>4.402</td>\n",
       "      <td>4.402</td>\n",
       "      <td>4.402</td>\n",
       "      <td>4.402</td>\n",
       "      <td>4.402</td>\n",
       "    </tr>\n",
       "    <tr>\n",
       "      <th>00006.csv</th>\n",
       "      <td>3.252719</td>\n",
       "      <td>3.528699</td>\n",
       "      <td>3.593447</td>\n",
       "      <td>3.637585</td>\n",
       "      <td>3.675045</td>\n",
       "      <td>3.707003</td>\n",
       "      <td>3.743988</td>\n",
       "      <td>3.768575</td>\n",
       "      <td>3.790718</td>\n",
       "      <td>3.811145</td>\n",
       "      <td>...</td>\n",
       "      <td>4.402</td>\n",
       "      <td>4.402</td>\n",
       "      <td>4.402</td>\n",
       "      <td>4.402</td>\n",
       "      <td>4.402</td>\n",
       "      <td>4.402</td>\n",
       "      <td>4.402</td>\n",
       "      <td>4.402</td>\n",
       "      <td>4.402</td>\n",
       "      <td>4.402</td>\n",
       "    </tr>\n",
       "    <tr>\n",
       "      <th>00008.csv</th>\n",
       "      <td>3.255399</td>\n",
       "      <td>3.533031</td>\n",
       "      <td>3.600614</td>\n",
       "      <td>3.646405</td>\n",
       "      <td>3.685240</td>\n",
       "      <td>3.718192</td>\n",
       "      <td>3.756114</td>\n",
       "      <td>3.781497</td>\n",
       "      <td>3.804007</td>\n",
       "      <td>3.824655</td>\n",
       "      <td>...</td>\n",
       "      <td>4.402</td>\n",
       "      <td>4.402</td>\n",
       "      <td>4.402</td>\n",
       "      <td>4.402</td>\n",
       "      <td>4.402</td>\n",
       "      <td>4.402</td>\n",
       "      <td>4.402</td>\n",
       "      <td>4.402</td>\n",
       "      <td>4.402</td>\n",
       "      <td>4.402</td>\n",
       "    </tr>\n",
       "    <tr>\n",
       "      <th>00010.csv</th>\n",
       "      <td>3.302855</td>\n",
       "      <td>3.576175</td>\n",
       "      <td>3.639267</td>\n",
       "      <td>3.681733</td>\n",
       "      <td>3.718126</td>\n",
       "      <td>3.748696</td>\n",
       "      <td>3.784452</td>\n",
       "      <td>3.808230</td>\n",
       "      <td>3.829422</td>\n",
       "      <td>3.848801</td>\n",
       "      <td>...</td>\n",
       "      <td>4.402</td>\n",
       "      <td>4.402</td>\n",
       "      <td>4.402</td>\n",
       "      <td>4.402</td>\n",
       "      <td>4.402</td>\n",
       "      <td>4.390</td>\n",
       "      <td>4.390</td>\n",
       "      <td>4.390</td>\n",
       "      <td>4.390</td>\n",
       "      <td>4.390</td>\n",
       "    </tr>\n",
       "    <tr>\n",
       "      <th>00012.csv</th>\n",
       "      <td>3.325621</td>\n",
       "      <td>3.595059</td>\n",
       "      <td>3.656386</td>\n",
       "      <td>3.698105</td>\n",
       "      <td>3.733366</td>\n",
       "      <td>3.763297</td>\n",
       "      <td>3.798263</td>\n",
       "      <td>3.821258</td>\n",
       "      <td>3.841889</td>\n",
       "      <td>3.860727</td>\n",
       "      <td>...</td>\n",
       "      <td>4.390</td>\n",
       "      <td>4.390</td>\n",
       "      <td>4.390</td>\n",
       "      <td>4.390</td>\n",
       "      <td>4.390</td>\n",
       "      <td>4.390</td>\n",
       "      <td>4.390</td>\n",
       "      <td>4.390</td>\n",
       "      <td>4.377</td>\n",
       "      <td>4.377</td>\n",
       "    </tr>\n",
       "    <tr>\n",
       "      <th>...</th>\n",
       "      <td>...</td>\n",
       "      <td>...</td>\n",
       "      <td>...</td>\n",
       "      <td>...</td>\n",
       "      <td>...</td>\n",
       "      <td>...</td>\n",
       "      <td>...</td>\n",
       "      <td>...</td>\n",
       "      <td>...</td>\n",
       "      <td>...</td>\n",
       "      <td>...</td>\n",
       "      <td>...</td>\n",
       "      <td>...</td>\n",
       "      <td>...</td>\n",
       "      <td>...</td>\n",
       "      <td>...</td>\n",
       "      <td>...</td>\n",
       "      <td>...</td>\n",
       "      <td>...</td>\n",
       "      <td>...</td>\n",
       "      <td>...</td>\n",
       "    </tr>\n",
       "    <tr>\n",
       "      <th>07555.csv</th>\n",
       "      <td>3.745490</td>\n",
       "      <td>3.941112</td>\n",
       "      <td>3.958164</td>\n",
       "      <td>3.969669</td>\n",
       "      <td>3.981883</td>\n",
       "      <td>3.992027</td>\n",
       "      <td>3.998773</td>\n",
       "      <td>4.005147</td>\n",
       "      <td>4.012518</td>\n",
       "      <td>4.019170</td>\n",
       "      <td>...</td>\n",
       "      <td>4.326</td>\n",
       "      <td>4.326</td>\n",
       "      <td>4.326</td>\n",
       "      <td>4.326</td>\n",
       "      <td>4.326</td>\n",
       "      <td>4.326</td>\n",
       "      <td>4.326</td>\n",
       "      <td>4.326</td>\n",
       "      <td>4.326</td>\n",
       "      <td>4.326</td>\n",
       "    </tr>\n",
       "    <tr>\n",
       "      <th>07557.csv</th>\n",
       "      <td>3.749292</td>\n",
       "      <td>3.941311</td>\n",
       "      <td>3.958447</td>\n",
       "      <td>3.969719</td>\n",
       "      <td>3.981986</td>\n",
       "      <td>3.991920</td>\n",
       "      <td>3.998446</td>\n",
       "      <td>4.004594</td>\n",
       "      <td>4.011804</td>\n",
       "      <td>4.016855</td>\n",
       "      <td>...</td>\n",
       "      <td>4.326</td>\n",
       "      <td>4.326</td>\n",
       "      <td>4.326</td>\n",
       "      <td>4.326</td>\n",
       "      <td>4.326</td>\n",
       "      <td>4.326</td>\n",
       "      <td>4.326</td>\n",
       "      <td>4.326</td>\n",
       "      <td>4.326</td>\n",
       "      <td>4.326</td>\n",
       "    </tr>\n",
       "    <tr>\n",
       "      <th>07560.csv</th>\n",
       "      <td>3.782642</td>\n",
       "      <td>4.003709</td>\n",
       "      <td>4.019798</td>\n",
       "      <td>4.030551</td>\n",
       "      <td>4.042122</td>\n",
       "      <td>4.051268</td>\n",
       "      <td>4.057269</td>\n",
       "      <td>4.062135</td>\n",
       "      <td>4.068375</td>\n",
       "      <td>4.072317</td>\n",
       "      <td>...</td>\n",
       "      <td>4.339</td>\n",
       "      <td>4.339</td>\n",
       "      <td>4.339</td>\n",
       "      <td>4.339</td>\n",
       "      <td>4.339</td>\n",
       "      <td>4.339</td>\n",
       "      <td>4.339</td>\n",
       "      <td>4.339</td>\n",
       "      <td>4.339</td>\n",
       "      <td>4.339</td>\n",
       "    </tr>\n",
       "    <tr>\n",
       "      <th>07563.csv</th>\n",
       "      <td>3.738696</td>\n",
       "      <td>3.931820</td>\n",
       "      <td>3.949232</td>\n",
       "      <td>3.960585</td>\n",
       "      <td>3.973192</td>\n",
       "      <td>3.981278</td>\n",
       "      <td>3.988229</td>\n",
       "      <td>3.996924</td>\n",
       "      <td>4.002770</td>\n",
       "      <td>4.008220</td>\n",
       "      <td>...</td>\n",
       "      <td>4.326</td>\n",
       "      <td>4.326</td>\n",
       "      <td>4.326</td>\n",
       "      <td>4.326</td>\n",
       "      <td>4.326</td>\n",
       "      <td>4.326</td>\n",
       "      <td>4.326</td>\n",
       "      <td>4.326</td>\n",
       "      <td>4.326</td>\n",
       "      <td>4.326</td>\n",
       "    </tr>\n",
       "    <tr>\n",
       "      <th>07565.csv</th>\n",
       "      <td>3.742571</td>\n",
       "      <td>3.932574</td>\n",
       "      <td>3.949894</td>\n",
       "      <td>3.961110</td>\n",
       "      <td>3.973335</td>\n",
       "      <td>3.981243</td>\n",
       "      <td>3.988141</td>\n",
       "      <td>3.996554</td>\n",
       "      <td>4.004150</td>\n",
       "      <td>4.009119</td>\n",
       "      <td>...</td>\n",
       "      <td>4.326</td>\n",
       "      <td>4.326</td>\n",
       "      <td>4.326</td>\n",
       "      <td>4.326</td>\n",
       "      <td>4.326</td>\n",
       "      <td>4.326</td>\n",
       "      <td>4.326</td>\n",
       "      <td>4.326</td>\n",
       "      <td>4.326</td>\n",
       "      <td>4.326</td>\n",
       "    </tr>\n",
       "  </tbody>\n",
       "</table>\n",
       "<p>2663 rows × 2505 columns</p>\n",
       "</div>"
      ],
      "text/plain": [
       "          Voltage_measured                                                    \\\n",
       "Time_Bin               0         1         2         3         4         5     \n",
       "filename                                                                       \n",
       "00003.csv         3.486189  3.761015  3.794844  3.819232  3.840722  3.860581   \n",
       "00006.csv         3.252719  3.528699  3.593447  3.637585  3.675045  3.707003   \n",
       "00008.csv         3.255399  3.533031  3.600614  3.646405  3.685240  3.718192   \n",
       "00010.csv         3.302855  3.576175  3.639267  3.681733  3.718126  3.748696   \n",
       "00012.csv         3.325621  3.595059  3.656386  3.698105  3.733366  3.763297   \n",
       "...                    ...       ...       ...       ...       ...       ...   \n",
       "07555.csv         3.745490  3.941112  3.958164  3.969669  3.981883  3.992027   \n",
       "07557.csv         3.749292  3.941311  3.958447  3.969719  3.981986  3.991920   \n",
       "07560.csv         3.782642  4.003709  4.019798  4.030551  4.042122  4.051268   \n",
       "07563.csv         3.738696  3.931820  3.949232  3.960585  3.973192  3.981278   \n",
       "07565.csv         3.742571  3.932574  3.949894  3.961110  3.973335  3.981243   \n",
       "\n",
       "                                                   ... Voltage_charge         \\\n",
       "Time_Bin        6         7         8         9    ...            491    492   \n",
       "filename                                           ...                         \n",
       "00003.csv  3.884060  3.900672  3.915742  3.929804  ...          4.402  4.402   \n",
       "00006.csv  3.743988  3.768575  3.790718  3.811145  ...          4.402  4.402   \n",
       "00008.csv  3.756114  3.781497  3.804007  3.824655  ...          4.402  4.402   \n",
       "00010.csv  3.784452  3.808230  3.829422  3.848801  ...          4.402  4.402   \n",
       "00012.csv  3.798263  3.821258  3.841889  3.860727  ...          4.390  4.390   \n",
       "...             ...       ...       ...       ...  ...            ...    ...   \n",
       "07555.csv  3.998773  4.005147  4.012518  4.019170  ...          4.326  4.326   \n",
       "07557.csv  3.998446  4.004594  4.011804  4.016855  ...          4.326  4.326   \n",
       "07560.csv  4.057269  4.062135  4.068375  4.072317  ...          4.339  4.339   \n",
       "07563.csv  3.988229  3.996924  4.002770  4.008220  ...          4.326  4.326   \n",
       "07565.csv  3.988141  3.996554  4.004150  4.009119  ...          4.326  4.326   \n",
       "\n",
       "                                                                   \n",
       "Time_Bin     493    494    495    496    497    498    499    500  \n",
       "filename                                                           \n",
       "00003.csv  4.402  4.402  4.402  4.402  4.402  4.402  4.402  4.402  \n",
       "00006.csv  4.402  4.402  4.402  4.402  4.402  4.402  4.402  4.402  \n",
       "00008.csv  4.402  4.402  4.402  4.402  4.402  4.402  4.402  4.402  \n",
       "00010.csv  4.402  4.402  4.402  4.390  4.390  4.390  4.390  4.390  \n",
       "00012.csv  4.390  4.390  4.390  4.390  4.390  4.390  4.377  4.377  \n",
       "...          ...    ...    ...    ...    ...    ...    ...    ...  \n",
       "07555.csv  4.326  4.326  4.326  4.326  4.326  4.326  4.326  4.326  \n",
       "07557.csv  4.326  4.326  4.326  4.326  4.326  4.326  4.326  4.326  \n",
       "07560.csv  4.339  4.339  4.339  4.339  4.339  4.339  4.339  4.339  \n",
       "07563.csv  4.326  4.326  4.326  4.326  4.326  4.326  4.326  4.326  \n",
       "07565.csv  4.326  4.326  4.326  4.326  4.326  4.326  4.326  4.326  \n",
       "\n",
       "[2663 rows x 2505 columns]"
      ]
     },
     "execution_count": 279,
     "metadata": {},
     "output_type": "execute_result"
    }
   ],
   "source": [
    "df_pivot"
   ]
  },
  {
   "cell_type": "code",
   "execution_count": 207,
   "metadata": {},
   "outputs": [],
   "source": [
    "X = torch.tensor(df_pivot.values, dtype=torch.float32)\n"
   ]
  },
  {
   "cell_type": "code",
   "execution_count": 214,
   "metadata": {},
   "outputs": [
    {
     "name": "stdout",
     "output_type": "stream",
     "text": [
      "tensor([[ 3.2527e+00, -2.3061e-03,  1.0146e+01, -6.0000e-04,  2.0000e-03],\n",
      "        [ 3.5287e+00,  1.4904e+00,  1.0098e+01,  1.4995e+00,  4.4465e+00],\n",
      "        [ 3.5934e+00,  1.4906e+00,  1.0031e+01,  1.4995e+00,  4.5170e+00],\n",
      "        ...,\n",
      "        [ 4.2108e+00,  2.9017e-01,  5.6513e+00,  2.9270e-01,  4.4020e+00],\n",
      "        [ 4.2109e+00,  2.8910e-01,  5.6444e+00,  2.9210e-01,  4.4020e+00],\n",
      "        [ 4.2111e+00,  2.8991e-01,  5.6553e+00,  2.9185e-01,  4.4020e+00]])\n"
     ]
    }
   ],
   "source": [
    "#Rearange to get a 3D tensor of shape (num_samples, num_timesteps, num_features)\n",
    "N_TIMESTEPS = 501\n",
    "X_reshaped = X.reshape(X.shape[0], -1, N_TIMESTEPS)\n",
    "#Permute the last two dimensions\n",
    "X_charge = X_reshaped.permute(0, 2, 1)\n",
    "print(X_charge[1])\n"
   ]
  },
  {
   "cell_type": "code",
   "execution_count": 193,
   "metadata": {},
   "outputs": [
    {
     "data": {
      "text/plain": [
       "Text(0, 0.5, 'Singular value')"
      ]
     },
     "execution_count": 193,
     "metadata": {},
     "output_type": "execute_result"
    },
    {
     "data": {
      "image/png": "[encoded data removed]",
      "text/plain": [
       "<Figure size 640x480 with 1 Axes>"
      ]
     },
     "metadata": {},
     "output_type": "display_data"
    }
   ],
   "source": [
    "import matplotlib.pyplot as plt\n",
    "\n",
    "X_train_reduced = X_charge[:, :, :1]\n",
    "X_norm = (X_train_reduced - X_train_reduced.mean(dim=0, keepdim=True)) / X_train_reduced.std(dim=0, keepdim=True)\n",
    "X_dft = dft(X_train_reduced)\n",
    "X_norm_dft = (X_dft - X_dft.mean(dim=0, keepdim=True)) / X_dft.std(dim=0, keepdim=True)\n",
    "\n",
    "sns.lineplot(torch.svd(X_norm.flatten(start_dim=1))[1], label=\"Time domain\")\n",
    "sns.lineplot(torch.svd(X_norm_dft.flatten(start_dim=1))[1], label=\"Frequency domain\")\n",
    "plt.legend()\n",
    "plt.xlabel(\"Singular value index\")\n",
    "plt.ylabel(\"Singular value\")"
   ]
  },
  {
   "cell_type": "code",
   "execution_count": null,
   "metadata": {},
   "outputs": [],
   "source": []
  }
 ],
 "metadata": {
  "kernelspec": {
   "display_name": "fourier",
   "language": "python",
   "name": "python3"
  },
  "language_info": {
   "codemirror_mode": {
    "name": "ipython",
    "version": 3
   },
   "file_extension": ".py",
   "mimetype": "text/x-python",
   "name": "python",
   "nbconvert_exporter": "python",
   "pygments_lexer": "ipython3",
   "version": "3.11.5"
  }
 },
 "nbformat": 4,
 "nbformat_minor": 2
}
