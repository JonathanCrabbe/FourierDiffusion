{
 "cells": [
  {
   "cell_type": "code",
   "execution_count": 1,
   "metadata": {},
   "outputs": [],
   "source": [
    "import numpy as np\n",
    "from src.utils.wasserstein.wasserstein import WassersteinDistances"
   ]
  },
  {
   "cell_type": "code",
   "execution_count": 2,
   "metadata": {},
   "outputs": [],
   "source": [
    "dataset1 = np.random.rand(1000, 2)\n",
    "dataset2 = np.random.rand(1000, 2) * 2 + 5\n",
    "\n",
    "wasserstein = WassersteinDistances(dataset1, dataset2, normalisation='none')"
   ]
  },
  {
   "cell_type": "code",
   "execution_count": 3,
   "metadata": {},
   "outputs": [
    {
     "name": "stdout",
     "output_type": "stream",
     "text": [
      "W_2 along 1st feature:  5.497643731697999\n",
      "W_2 along 2nd feature:  5.47992325761174\n"
     ]
    }
   ],
   "source": [
    "# Featurewise distance\n",
    "print('W_2 along 1st feature: ', wasserstein.feature_distance(0))\n",
    "print('W_2 along 2nd feature: ', wasserstein.feature_distance(1))"
   ]
  },
  {
   "cell_type": "code",
   "execution_count": 4,
   "metadata": {},
   "outputs": [
    {
     "name": "stdout",
     "output_type": "stream",
     "text": [
      "W_2 along 1st feature:  5.497643731697999\n",
      "W_2 along 2nd feature:  5.47992325761174\n"
     ]
    }
   ],
   "source": [
    "# Equivalent\n",
    "vs = wasserstein.get_marginal_directions()\n",
    "print('W_2 along 1st feature: ', wasserstein.directional_distance(vs[0]))\n",
    "print('W_2 along 2nd feature: ', wasserstein.directional_distance(vs[1]))"
   ]
  },
  {
   "cell_type": "code",
   "execution_count": 5,
   "metadata": {},
   "outputs": [
    {
     "name": "stdout",
     "output_type": "stream",
     "text": [
      "directions:  [array([-0.93764767,  0.34758717]), array([0.24264311, 0.97011562]), array([-0.28697778, -0.95793724]), array([0.69397437, 0.71999971]), array([-0.62681712,  0.77916642])]\n",
      "W_2 along v_0:  3.258660380264063\n",
      "W_2 along v_1:  6.647068137668028\n",
      "W_2 along v_2:  6.82364850910976\n",
      "W_2 along v_3:  7.755225777622477\n",
      "W_2 along v_4:  0.8733143812605361\n",
      "Slice distance:  5.071583437184972\n"
     ]
    }
   ],
   "source": [
    "# Sliced distance\n",
    "vs = wasserstein.get_directions(5)\n",
    "print('directions: ', vs)\n",
    "\n",
    "ws =[]\n",
    "for i, v in enumerate(vs):\n",
    "    w = wasserstein.directional_distance(v)\n",
    "    ws.append(w)\n",
    "    print(f'W_2 along v_{i}: ', w)\n",
    "\n",
    "print('Slice distance: ', np.mean(ws))"
   ]
  }
 ],
 "metadata": {
  "kernelspec": {
   "display_name": "base",
   "language": "python",
   "name": "python3"
  },
  "language_info": {
   "codemirror_mode": {
    "name": "ipython",
    "version": 3
   },
   "file_extension": ".py",
   "mimetype": "text/x-python",
   "name": "python",
   "nbconvert_exporter": "python",
   "pygments_lexer": "ipython3",
   "version": "3.9.12"
  }
 },
 "nbformat": 4,
 "nbformat_minor": 2
}
