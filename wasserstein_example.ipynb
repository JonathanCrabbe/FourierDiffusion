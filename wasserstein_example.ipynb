{
 "cells": [
  {
   "cell_type": "code",
   "execution_count": 1,
   "metadata": {},
   "outputs": [],
   "source": [
    "import numpy as np\n",
    "from src.utils.wasserstein.wasserstein import WassersteinDistances"
   ]
  },
  {
   "cell_type": "code",
   "execution_count": 2,
   "metadata": {},
   "outputs": [],
   "source": [
    "dataset1 = np.random.rand(1000, 2)\n",
    "dataset2 = np.random.rand(1000, 2) * 2 + 5\n",
    "\n",
    "wasserstein = WassersteinDistances(dataset1, dataset2, normalisation='none')"
   ]
  },
  {
   "cell_type": "code",
   "execution_count": 3,
   "metadata": {},
   "outputs": [
    {
     "name": "stdout",
     "output_type": "stream",
     "text": [
      "W_2^2 along 1st feature:  5.469047693215419\n",
      "W_2^2 along 2nd feature:  5.493640969413381\n"
     ]
    }
   ],
   "source": [
    "# Featurewise distance\n",
    "print('W_2^2 along 1st feature: ', wasserstein.feature_distance(0))\n",
    "print('W_2^2 along 2nd feature: ', wasserstein.feature_distance(1))"
   ]
  },
  {
   "cell_type": "code",
   "execution_count": 4,
   "metadata": {},
   "outputs": [
    {
     "name": "stdout",
     "output_type": "stream",
     "text": [
      "directions:  [array([0.52420515, 0.85159202]), array([ 0.95961538, -0.28131536]), array([ 0.41794311, -0.9084732 ]), array([0.98711003, 0.16004309]), array([-0.05856926,  0.99828335])]\n",
      "W_2^2 along v_0:  7.540269057748373\n",
      "W_2^2 along v_1:  3.7088465349243083\n",
      "W_2^2 along v_2:  2.716830852195534\n",
      "W_2^2 along v_3:  6.27566478369516\n",
      "W_2^2 along v_4:  5.16484224315473\n",
      "Slice distance:  5.081290694343621\n"
     ]
    }
   ],
   "source": [
    "# Sliced distance\n",
    "vs = wasserstein.get_directions(5)\n",
    "print('directions: ', vs)\n",
    "\n",
    "ws =[]\n",
    "for i, v in enumerate(vs):\n",
    "    w = wasserstein.directional_distance(v)\n",
    "    ws.append(w)\n",
    "    print(f'W_2^2 along v_{i}: ', w)\n",
    "\n",
    "print('Slice distance: ', np.mean(ws))"
   ]
  }
 ],
 "metadata": {
  "kernelspec": {
   "display_name": "base",
   "language": "python",
   "name": "python3"
  },
  "language_info": {
   "codemirror_mode": {
    "name": "ipython",
    "version": 3
   },
   "file_extension": ".py",
   "mimetype": "text/x-python",
   "name": "python",
   "nbconvert_exporter": "python",
   "pygments_lexer": "ipython3",
   "version": "3.9.12"
  }
 },
 "nbformat": 4,
 "nbformat_minor": 2
}
