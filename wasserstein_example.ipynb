{
 "cells": [
  {
   "cell_type": "code",
   "execution_count": 6,
   "metadata": {},
   "outputs": [],
   "source": [
    "import numpy as np\n",
    "from src.utils.wasserstein.wasserstein import WassersteinDistances"
   ]
  },
  {
   "cell_type": "code",
   "execution_count": 7,
   "metadata": {},
   "outputs": [],
   "source": [
    "dataset1 = np.random.rand(1000, 2)\n",
    "dataset2 = np.random.rand(1000, 2) * 2 + 5\n",
    "\n",
    "wasserstein = WassersteinDistances(dataset1, dataset2, normalisation='none')"
   ]
  },
  {
   "cell_type": "code",
   "execution_count": 8,
   "metadata": {},
   "outputs": [
    {
     "name": "stdout",
     "output_type": "stream",
     "text": [
      "W_2 along 1st feature:  5.511189931755403\n",
      "W_2 along 2nd feature:  5.48527367202589\n"
     ]
    }
   ],
   "source": [
    "# Featurewise distance\n",
    "print('W_2 along 1st feature: ', wasserstein.feature_distance(0))\n",
    "print('W_2 along 2nd feature: ', wasserstein.feature_distance(1))"
   ]
  },
  {
   "cell_type": "code",
   "execution_count": 9,
   "metadata": {},
   "outputs": [
    {
     "name": "stdout",
     "output_type": "stream",
     "text": [
      "W_2 along 1st feature:  5.511189931755403\n",
      "W_2 along 2nd feature:  5.48527367202589\n"
     ]
    }
   ],
   "source": [
    "# Equivalent\n",
    "vs = wasserstein.get_marginal_directions()\n",
    "print('W_2 along 1st feature: ', wasserstein.directional_distance(vs[0]))\n",
    "print('W_2 along 2nd feature: ', wasserstein.directional_distance(vs[1]))"
   ]
  },
  {
   "cell_type": "code",
   "execution_count": 10,
   "metadata": {},
   "outputs": [
    {
     "name": "stdout",
     "output_type": "stream",
     "text": [
      "directions:  [array([-0.81418957,  0.58059912]), array([-0.35926125,  0.93323703]), array([ 0.8763774 , -0.48162501]), array([-0.41420233, -0.91018484]), array([-0.41364383, -0.91043878])]\n"
     ]
    },
    {
     "ename": "AttributeError",
     "evalue": "'WassersteinDistances' object has no attribute 'get_random_directions'",
     "output_type": "error",
     "traceback": [
      "\u001b[0;31m---------------------------------------------------------------------------\u001b[0m",
      "\u001b[0;31mAttributeError\u001b[0m                            Traceback (most recent call last)",
      "\u001b[1;32m/home/jan/projects/FourierDiffusion/wasserstein_example.ipynb Cell 5\u001b[0m line \u001b[0;36m7\n\u001b[1;32m      <a href='vscode-notebook-cell://wsl%2Bubuntu/home/jan/projects/FourierDiffusion/wasserstein_example.ipynb#W3sdnNjb2RlLXJlbW90ZQ%3D%3D?line=4'>5</a>\u001b[0m ws \u001b[39m=\u001b[39m[]\n\u001b[1;32m      <a href='vscode-notebook-cell://wsl%2Bubuntu/home/jan/projects/FourierDiffusion/wasserstein_example.ipynb#W3sdnNjb2RlLXJlbW90ZQ%3D%3D?line=5'>6</a>\u001b[0m \u001b[39mfor\u001b[39;00m i, v \u001b[39min\u001b[39;00m \u001b[39menumerate\u001b[39m(vs):\n\u001b[0;32m----> <a href='vscode-notebook-cell://wsl%2Bubuntu/home/jan/projects/FourierDiffusion/wasserstein_example.ipynb#W3sdnNjb2RlLXJlbW90ZQ%3D%3D?line=6'>7</a>\u001b[0m     w \u001b[39m=\u001b[39m wasserstein\u001b[39m.\u001b[39;49mget_random_directions(v)\n\u001b[1;32m      <a href='vscode-notebook-cell://wsl%2Bubuntu/home/jan/projects/FourierDiffusion/wasserstein_example.ipynb#W3sdnNjb2RlLXJlbW90ZQ%3D%3D?line=7'>8</a>\u001b[0m     ws\u001b[39m.\u001b[39mappend(w)\n\u001b[1;32m      <a href='vscode-notebook-cell://wsl%2Bubuntu/home/jan/projects/FourierDiffusion/wasserstein_example.ipynb#W3sdnNjb2RlLXJlbW90ZQ%3D%3D?line=8'>9</a>\u001b[0m     \u001b[39mprint\u001b[39m(\u001b[39mf\u001b[39m\u001b[39m'\u001b[39m\u001b[39mW_2 along v_\u001b[39m\u001b[39m{\u001b[39;00mi\u001b[39m}\u001b[39;00m\u001b[39m: \u001b[39m\u001b[39m'\u001b[39m, w)\n",
      "\u001b[0;31mAttributeError\u001b[0m: 'WassersteinDistances' object has no attribute 'get_random_directions'"
     ]
    }
   ],
   "source": [
    "# Sliced distance\n",
    "vs = wasserstein.get_directions(5)\n",
    "print('directions: ', vs)\n",
    "\n",
    "ws =[]\n",
    "for i, v in enumerate(vs):\n",
    "    w = wasserstein.get_random_directions(v)\n",
    "    ws.append(w)\n",
    "    print(f'W_2 along v_{i}: ', w)\n",
    "\n",
    "print('Slice distance: ', np.mean(ws))"
   ]
  },
  {
   "cell_type": "code",
   "execution_count": null,
   "metadata": {},
   "outputs": [],
   "source": []
  }
 ],
 "metadata": {
  "kernelspec": {
   "display_name": "base",
   "language": "python",
   "name": "python3"
  },
  "language_info": {
   "codemirror_mode": {
    "name": "ipython",
    "version": 3
   },
   "file_extension": ".py",
   "mimetype": "text/x-python",
   "name": "python",
   "nbconvert_exporter": "python",
   "pygments_lexer": "ipython3",
   "version": "3.9.12"
  }
 },
 "nbformat": 4,
 "nbformat_minor": 2
}
